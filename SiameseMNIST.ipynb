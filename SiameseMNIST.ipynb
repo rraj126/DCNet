{
 "cells": [
  {
   "cell_type": "code",
   "execution_count": 1,
   "metadata": {},
   "outputs": [
    {
     "data": {
      "text/plain": [
       "'/Users/rraj/PythonFunctions/DCNet'"
      ]
     },
     "execution_count": 1,
     "metadata": {},
     "output_type": "execute_result"
    }
   ],
   "source": [
    "import os\n",
    "from matplotlib import pyplot as plt\n",
    "import numpy as np\n",
    "import pandas as pd\n",
    "os.chdir('/Users/rraj/PythonFunctions/DCNet/')\n",
    "os.getcwd()"
   ]
  },
  {
   "cell_type": "code",
   "execution_count": 121,
   "metadata": {},
   "outputs": [],
   "source": [
    "import torch\n",
    "from torchvision.datasets import MNIST\n",
    "from torchvision import transforms\n",
    "from tqdm import tqdm\n",
    "\n",
    "mnist_data = MNIST(\n",
    "    root = 'data',\n",
    "    train = True,                         \n",
    "    transform = transforms.ToTensor(), \n",
    "    download = True,            \n",
    ")\n",
    "\n",
    "mnist_test_data = MNIST(\n",
    "    root = 'data',\n",
    "    train = False,                         \n",
    "    transform = transforms.ToTensor(), \n",
    "    download = True,            \n",
    ")"
   ]
  },
  {
   "cell_type": "code",
   "execution_count": 3,
   "metadata": {},
   "outputs": [],
   "source": [
    "import torch\n",
    "from torch.utils.data import DataLoader, Dataset, RandomSampler\n",
    "import torch.nn.functional as F\n",
    "from transformations import Transform\n",
    "\n",
    "class TripletLoader:\n",
    "    def __init__(self, dataset: Dataset, transforms: Transform):\n",
    "        self.dataset = dataset\n",
    "        self.transforms = transforms\n",
    "        \n",
    "    def __call__(self, nsamples: int):\n",
    "        self.nsamples = nsamples\n",
    "        self._initialize_loader()\n",
    "        return self\n",
    "    \n",
    "    def __iter__(self):\n",
    "        return self\n",
    "    \n",
    "    def __next__(self):\n",
    "        if self.current < self.nsamples:\n",
    "            self.current += 1\n",
    "            samples, targets = self._triplet()\n",
    "            transformed_samples = [self.transforms(samples[i], label=targets[i].item()) for i in range(3)]\n",
    "            return transformed_samples\n",
    "        raise StopIteration\n",
    "    \n",
    "    def _initialize_loader(self):\n",
    "        self.loader = DataLoader(self.dataset, sampler=RandomSampler(self.dataset), batch_size=self.nsamples)\n",
    "        self.current = 0\n",
    "        \n",
    "    def _triplet(self):\n",
    "        anchor_idx, positive_idx, negative_idx = 0, float('inf'), float('inf')\n",
    "        s, t = next(iter(self.loader))\n",
    "        while torch.tensor(positive_idx).isinf() or torch.tensor(negative_idx).isinf():\n",
    "            try:\n",
    "                positive_idx = (t == t[0]).nonzero().flatten()[1].item()\n",
    "                negative_idx = (t != t[0]).nonzero().flatten()[1].item()\n",
    "            except IndexError:\n",
    "                s, t = next(iter(self.loader))\n",
    "        indices = [anchor_idx, positive_idx, negative_idx]\n",
    "        return s[indices], t[indices]\n",
    "        "
   ]
  },
  {
   "cell_type": "code",
   "execution_count": 8,
   "metadata": {},
   "outputs": [
    {
     "name": "stdout",
     "output_type": "stream",
     "text": [
      "3 tensor([0., 0., 0., 0., 0., 0., 0., 1., 0., 0.]) tensor([0., 0., 0., 0., 0., 0., 0., 1., 0., 0.]) tensor([0., 0., 1., 0., 0., 0., 0., 0., 0., 0.])\n",
      "3 tensor([1., 0., 0., 0., 0., 0., 0., 0., 0., 0.]) tensor([1., 0., 0., 0., 0., 0., 0., 0., 0., 0.]) tensor([0., 0., 0., 1., 0., 0., 0., 0., 0., 0.])\n",
      "3 tensor([0., 0., 0., 0., 0., 1., 0., 0., 0., 0.]) tensor([0., 0., 0., 0., 0., 1., 0., 0., 0., 0.]) tensor([0., 1., 0., 0., 0., 0., 0., 0., 0., 0.])\n",
      "3 tensor([0., 0., 0., 0., 1., 0., 0., 0., 0., 0.]) tensor([0., 0., 0., 0., 1., 0., 0., 0., 0., 0.]) tensor([0., 0., 0., 0., 0., 1., 0., 0., 0., 0.])\n",
      "3 tensor([0., 0., 0., 0., 0., 0., 0., 0., 1., 0.]) tensor([0., 0., 0., 0., 0., 0., 0., 0., 1., 0.]) tensor([0., 0., 0., 0., 0., 0., 0., 1., 0., 0.])\n"
     ]
    }
   ],
   "source": [
    "import transformations\n",
    "from transformations import PadLabel, ToVector, Scale\n",
    "\n",
    "loader_transform = transformations.Compose([Scale(), PadLabel(10), ToVector()])\n",
    "loader = TripletLoader(mnist_data, transforms=loader_transform)\n",
    "for s in loader(5):\n",
    "    print(len(s), s[0][0,784:], s[1][0,784:], s[2][0,784:])"
   ]
  },
  {
   "cell_type": "code",
   "execution_count": 97,
   "metadata": {},
   "outputs": [],
   "source": [
    "from torch import nn\n",
    "import torchsummary\n",
    "\n",
    "class LeNet(nn.Module):\n",
    "    def __init__(self):\n",
    "        super().__init__()\n",
    "        self.net = nn.Sequential(\n",
    "            nn.Conv2d(1, 6, 5, padding=2),\n",
    "            nn.Sigmoid(),\n",
    "            nn.AvgPool2d(2, stride=2),\n",
    "            nn.Conv2d(6, 16, 5),\n",
    "            nn.Sigmoid(),\n",
    "            nn.AvgPool2d(2, stride=2),\n",
    "            nn.Flatten(),\n",
    "            nn.Linear(400, 120),\n",
    "            nn.Sigmoid(),\n",
    "            nn.Linear(120, 84),\n",
    "            nn.Sigmoid(),\n",
    "            nn.Linear(84, 10)\n",
    "        )\n",
    "    def forward(self, x):\n",
    "        return self.net(x)"
   ]
  },
  {
   "cell_type": "code",
   "execution_count": 206,
   "metadata": {},
   "outputs": [],
   "source": [
    "from typing import List\n",
    "\n",
    "class ActivationExtractor(nn.Module):\n",
    "    def __init__(self, model: nn.Module, layers: List[int]):\n",
    "        super().__init__()\n",
    "        self.model = model\n",
    "        self.layers = layers\n",
    "        self._activations = {layer: torch.empty(0) for layer in layers}\n",
    "        \n",
    "        for layer in layers:\n",
    "            self.model.net[layer].register_forward_hook(self._get_activation(layer))\n",
    "        \n",
    "    def _get_activation(self, layer: int):\n",
    "        def hook(_, __, output):\n",
    "            self._activations[layer] = torch.cat((self._activations[layer], output.detach()), dim=0)\n",
    "                \n",
    "        return hook\n",
    "    \n",
    "    def forward(self, x: torch.Tensor):\n",
    "        _ = self.model(x)\n",
    "        return self._activations\n"
   ]
  },
  {
   "cell_type": "code",
   "execution_count": 118,
   "metadata": {},
   "outputs": [],
   "source": [
    "device = torch.device('cuda' if torch.cuda.is_available() else 'cpu')\n",
    "model = LeNet().to(device)\n",
    "\n",
    "nepochs = 50\n",
    "optimizer = torch.optim.Adam(model.parameters(), lr=0.0005)\n",
    "loader = DataLoader(mnist_data, batch_size=64, sampler=RandomSampler(mnist_data))\n",
    "loss_fn = torch.nn.CrossEntropyLoss()"
   ]
  },
  {
   "cell_type": "code",
   "execution_count": 119,
   "metadata": {},
   "outputs": [
    {
     "name": "stdout",
     "output_type": "stream",
     "text": [
      "epoch=0, batch=399, running_loss=1.95\n",
      "epoch=0, batch=799, running_loss=0.84\n",
      "epoch=1, batch=399, running_loss=0.46\n",
      "epoch=1, batch=799, running_loss=0.30\n",
      "epoch=2, batch=399, running_loss=0.25\n",
      "epoch=2, batch=799, running_loss=0.19\n",
      "epoch=3, batch=399, running_loss=0.28\n",
      "epoch=3, batch=799, running_loss=0.11\n",
      "epoch=4, batch=399, running_loss=0.30\n",
      "epoch=4, batch=799, running_loss=0.21\n",
      "epoch=5, batch=399, running_loss=0.19\n",
      "epoch=5, batch=799, running_loss=0.20\n",
      "epoch=6, batch=399, running_loss=0.24\n",
      "epoch=6, batch=799, running_loss=0.10\n",
      "epoch=7, batch=399, running_loss=0.16\n",
      "epoch=7, batch=799, running_loss=0.06\n",
      "epoch=8, batch=399, running_loss=0.15\n",
      "epoch=8, batch=799, running_loss=0.08\n",
      "epoch=9, batch=399, running_loss=0.17\n",
      "epoch=9, batch=799, running_loss=0.10\n",
      "epoch=10, batch=399, running_loss=0.15\n",
      "epoch=10, batch=799, running_loss=0.02\n",
      "epoch=11, batch=399, running_loss=0.04\n",
      "epoch=11, batch=799, running_loss=0.03\n",
      "epoch=12, batch=399, running_loss=0.06\n",
      "epoch=12, batch=799, running_loss=0.01\n",
      "epoch=13, batch=399, running_loss=0.12\n",
      "epoch=13, batch=799, running_loss=0.18\n",
      "epoch=14, batch=399, running_loss=0.13\n",
      "epoch=14, batch=799, running_loss=0.05\n",
      "epoch=15, batch=399, running_loss=0.02\n",
      "epoch=15, batch=799, running_loss=0.03\n",
      "epoch=16, batch=399, running_loss=0.07\n",
      "epoch=16, batch=799, running_loss=0.03\n",
      "epoch=17, batch=399, running_loss=0.06\n",
      "epoch=17, batch=799, running_loss=0.04\n",
      "epoch=18, batch=399, running_loss=0.10\n",
      "epoch=18, batch=799, running_loss=0.04\n",
      "epoch=19, batch=399, running_loss=0.03\n",
      "epoch=19, batch=799, running_loss=0.04\n",
      "epoch=20, batch=399, running_loss=0.15\n",
      "epoch=20, batch=799, running_loss=0.12\n",
      "epoch=21, batch=399, running_loss=0.07\n",
      "epoch=21, batch=799, running_loss=0.08\n",
      "epoch=22, batch=399, running_loss=0.03\n",
      "epoch=22, batch=799, running_loss=0.16\n",
      "epoch=23, batch=399, running_loss=0.09\n",
      "epoch=23, batch=799, running_loss=0.02\n",
      "epoch=24, batch=399, running_loss=0.02\n",
      "epoch=24, batch=799, running_loss=0.02\n",
      "epoch=25, batch=399, running_loss=0.03\n",
      "epoch=25, batch=799, running_loss=0.03\n",
      "epoch=26, batch=399, running_loss=0.12\n",
      "epoch=26, batch=799, running_loss=0.14\n",
      "epoch=27, batch=399, running_loss=0.02\n",
      "epoch=27, batch=799, running_loss=0.01\n",
      "epoch=28, batch=399, running_loss=0.02\n",
      "epoch=28, batch=799, running_loss=0.01\n",
      "epoch=29, batch=399, running_loss=0.00\n",
      "epoch=29, batch=799, running_loss=0.14\n",
      "epoch=30, batch=399, running_loss=0.03\n",
      "epoch=30, batch=799, running_loss=0.07\n",
      "epoch=31, batch=399, running_loss=0.03\n",
      "epoch=31, batch=799, running_loss=0.01\n",
      "epoch=32, batch=399, running_loss=0.00\n",
      "epoch=32, batch=799, running_loss=0.05\n",
      "epoch=33, batch=399, running_loss=0.02\n",
      "epoch=33, batch=799, running_loss=0.03\n",
      "epoch=34, batch=399, running_loss=0.03\n",
      "epoch=34, batch=799, running_loss=0.01\n",
      "epoch=35, batch=399, running_loss=0.01\n",
      "epoch=35, batch=799, running_loss=0.04\n",
      "epoch=36, batch=399, running_loss=0.03\n",
      "epoch=36, batch=799, running_loss=0.00\n",
      "epoch=37, batch=399, running_loss=0.00\n",
      "epoch=37, batch=799, running_loss=0.01\n",
      "epoch=38, batch=399, running_loss=0.00\n",
      "epoch=38, batch=799, running_loss=0.00\n",
      "epoch=39, batch=399, running_loss=0.00\n",
      "epoch=39, batch=799, running_loss=0.03\n",
      "epoch=40, batch=399, running_loss=0.02\n",
      "epoch=40, batch=799, running_loss=0.00\n",
      "epoch=41, batch=399, running_loss=0.05\n",
      "epoch=41, batch=799, running_loss=0.02\n",
      "epoch=42, batch=399, running_loss=0.05\n",
      "epoch=42, batch=799, running_loss=0.02\n",
      "epoch=43, batch=399, running_loss=0.01\n",
      "epoch=43, batch=799, running_loss=0.04\n",
      "epoch=44, batch=399, running_loss=0.01\n",
      "epoch=44, batch=799, running_loss=0.00\n",
      "epoch=45, batch=399, running_loss=0.00\n",
      "epoch=45, batch=799, running_loss=0.02\n",
      "epoch=46, batch=399, running_loss=0.02\n",
      "epoch=46, batch=799, running_loss=0.00\n",
      "epoch=47, batch=399, running_loss=0.02\n",
      "epoch=47, batch=799, running_loss=0.00\n",
      "epoch=48, batch=399, running_loss=0.04\n",
      "epoch=48, batch=799, running_loss=0.00\n",
      "epoch=49, batch=399, running_loss=0.02\n",
      "epoch=49, batch=799, running_loss=0.02\n"
     ]
    }
   ],
   "source": [
    "import torch.nn.functional as F\n",
    "\n",
    "running_loss = 0\n",
    "for epoch in range(nepochs):\n",
    "    for i, data in enumerate(loader):\n",
    "        inputs, targets = data\n",
    "        inputs = inputs.to(device)\n",
    "        targets = targets.to(device)\n",
    "        \n",
    "        optimizer.zero_grad()\n",
    "        preds = model(inputs)\n",
    "        loss = loss_fn(preds, targets)\n",
    "        loss.backward()\n",
    "        optimizer.step()\n",
    "        \n",
    "        running_loss = loss.item()\n",
    "        if (i+1) % 400 == 0:\n",
    "            print(f\"{epoch=}, batch={i}, {running_loss=:.2f}\")\n",
    "            running_loss = 0\n",
    "        "
   ]
  },
  {
   "cell_type": "code",
   "execution_count": 134,
   "metadata": {},
   "outputs": [
    {
     "name": "stdout",
     "output_type": "stream",
     "text": [
      "correct=0.9874\n"
     ]
    }
   ],
   "source": [
    "test_loader = DataLoader(mnist_test_data, shuffle=True)\n",
    "correct = 0\n",
    "with torch.no_grad():\n",
    "    for input, target in test_loader:\n",
    "        input = input.to(device)\n",
    "        target = target.to(device)\n",
    "        prediction = model(input)\n",
    "        \n",
    "        if target.item() == prediction.argmax().item():\n",
    "            correct += 1\n",
    "\n",
    "print(f\"correct={correct/len(test_loader)}\")"
   ]
  },
  {
   "cell_type": "code",
   "execution_count": 207,
   "metadata": {},
   "outputs": [],
   "source": [
    "monitored_layers = [6, 7, 9, 11]\n",
    "\n",
    "activation = ActivationExtractor(model, layers=monitored_layers)\n",
    "test_loader = DataLoader(mnist_test_data, shuffle=True)\n",
    "targets = []\n",
    "with torch.no_grad():\n",
    "    for input, target in test_loader:\n",
    "        input = input.to(device)\n",
    "        targets.append(target.item())\n",
    "        activations = activation(input)\n"
   ]
  },
  {
   "cell_type": "code",
   "execution_count": 212,
   "metadata": {},
   "outputs": [
    {
     "data": {
      "text/plain": [
       "<matplotlib.colorbar.Colorbar at 0x7fbbbab17280>"
      ]
     },
     "execution_count": 212,
     "metadata": {},
     "output_type": "execute_result"
    },
    {
     "data": {
      "image/png": "[encoded data removed]",
      "text/plain": [
       "<Figure size 640x480 with 2 Axes>"
      ]
     },
     "metadata": {},
     "output_type": "display_data"
    }
   ],
   "source": [
    "plt.pcolormesh(activations[6][,:])\n",
    "plt.colorbar()"
   ]
  },
  {
   "cell_type": "code",
   "execution_count": 197,
   "metadata": {},
   "outputs": [
    {
     "data": {
      "text/plain": [
       "tensor([[0.9268, 0.8276, 0.4418, 0.3110, 0.2306]])"
      ]
     },
     "execution_count": 197,
     "metadata": {},
     "output_type": "execute_result"
    }
   ],
   "source": [
    "x = torch.empty(0)\n",
    "y = torch.rand(1, 5)\n",
    "torch.cat((x,y), dim=0)"
   ]
  }
 ],
 "metadata": {
  "kernelspec": {
   "display_name": "Python 3",
   "language": "python",
   "name": "python3"
  },
  "language_info": {
   "codemirror_mode": {
    "name": "ipython",
    "version": 3
   },
   "file_extension": ".py",
   "mimetype": "text/x-python",
   "name": "python",
   "nbconvert_exporter": "python",
   "pygments_lexer": "ipython3",
   "version": "3.8.2rc2"
  },
  "orig_nbformat": 4
 },
 "nbformat": 4,
 "nbformat_minor": 2
}
