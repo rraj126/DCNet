{
 "cells": [
  {
   "cell_type": "code",
   "execution_count": 144,
   "metadata": {},
   "outputs": [],
   "source": [
    "import shelve\n",
    "import os\n",
    "import torch\n",
    "import warnings\n",
    "import random\n",
    "from torch.utils.data import Dataset"
   ]
  },
  {
   "cell_type": "code",
   "execution_count": 145,
   "metadata": {},
   "outputs": [
    {
     "data": {
      "text/plain": [
       "'/Users/rraj/PythonFunctions/DCNet'"
      ]
     },
     "execution_count": 145,
     "metadata": {},
     "output_type": "execute_result"
    }
   ],
   "source": [
    "os.chdir('/Users/rraj/PythonFunctions/DCNet/')\n",
    "os.getcwd()"
   ]
  },
  {
   "cell_type": "code",
   "execution_count": 90,
   "metadata": {},
   "outputs": [],
   "source": [
    "class ModelData:\n",
    "    def read_data(self, data_identifier: str, data_type: str):\n",
    "        file_path = self.check_identifier(data_identifier)\n",
    "        \n",
    "        f = shelve.open(file_path[:-3], 'r')\n",
    "        if data_type == 'train':\n",
    "            data = f['train_dict']\n",
    "        elif data_type == 'test':\n",
    "            data = f['train_dict']\n",
    "        else:\n",
    "            raise Exception(\"invalid data type requested\")\n",
    "        f.close()\n",
    "        return data\n",
    "    \n",
    "    def check_identifier(self, data_identifier: str):\n",
    "        file_path = data_identifier\n",
    "        if 'Data' not in data_identifier:\n",
    "            file_path = os.path.join(os.getcwd(), 'Data', 'Data-'+data_identifier+'.db')\n",
    "        \n",
    "        if not os.path.isfile(file_path):\n",
    "            raise FileNotFoundError(f\"{file_path} not found\")\n",
    "        else:\n",
    "            return file_path\n",
    "        \n",
    "        \n",
    "    def labels_to_index_dict(self, data: dict):\n",
    "        return {label : indx for indx, label in enumerate(data.keys())}\n",
    "    \n",
    "    def index_to_labels_dict(self, labels_to_index_dict: dict):\n",
    "        return {indx : label for label, indx in labels_to_index_dict.items()}\n",
    "    \n",
    "    def get_nclasses(self, data: dict):\n",
    "        return len(data.keys())\n",
    "    \n",
    "    def get_sample_sizes(self, data: dict, index_to_label_dict: dict):\n",
    "        sample_sizes = []\n",
    "        for indx in range(len(data)):\n",
    "            label = index_to_label_dict.get(indx, None)\n",
    "            sample_sizes.append(data[label].shape[1])\n",
    "        return sample_sizes\n",
    "\n",
    "    def get_max_batch_size(self, sample_sizes: list):\n",
    "        return min(sample_sizes)*len(sample_sizes)\n",
    "    \n",
    "    def get_max_data_dim(self, data: dict):\n",
    "        data_dims = [values.shape[0] for values in data.values()]\n",
    "        return max(data_dims)\n",
    "\n",
    "\n",
    "    "
   ]
  },
  {
   "cell_type": "code",
   "execution_count": 91,
   "metadata": {},
   "outputs": [],
   "source": [
    "class TrainData(ModelData, Dataset):\n",
    "    def __init__(self, data_identifier: str):\n",
    "        self.data = self.read_data(data_identifier, 'train')\n",
    "        self.nclasses = self.get_nclasses(self.data)\n",
    "        self.labels_to_index = self.labels_to_index_dict(self.data)\n",
    "        self.index_to_labels = self.index_to_labels_dict(self.labels_to_index)\n",
    "        self.sample_sizes = self.get_sample_sizes(self.data, self.index_to_labels)\n",
    "        self.max_batch_size = self.get_max_batch_size(self.sample_sizes)\n",
    "        \n",
    "\n",
    "    def __len__(self):\n",
    "        total_samples = 0\n",
    "        for value in self.data.values():\n",
    "            total_samples += value.shape[1]\n",
    "        return total_samples\n",
    "    \n",
    "    def __getitem__(self, index):\n",
    "        if isinstance(index, tuple) and len(index) == 2:\n",
    "            k = self.index_to_labels.get(index[0], None)\n",
    "            return torch.unsqueeze(torch.from_numpy(self.data[k][:, index[1]]), 0)\n",
    "        else:\n",
    "            raise IndexError(f\"{index} not supported\")\n",
    "        \n",
    "    def get_data_dim(self):\n",
    "        return self.get_max_data_dim(self.data)"
   ]
  },
  {
   "cell_type": "code",
   "execution_count": 92,
   "metadata": {},
   "outputs": [],
   "source": [
    "class TestData(ModelData, Dataset):\n",
    "    def __init__(self, data_identifier: str):\n",
    "        self.data = self.read_data(data_identifier, 'test')\n",
    "        self.labels_to_index = self.labels_to_index_dict(self.data)\n",
    "        self.nclasses = self.get_nclasses(self.data)\n",
    "        self.index_to_labels = self.index_to_labels_dict(self.labels_to_index)\n",
    "        self.sample_sizes = self.get_sample_sizes(self.data, self.index_to_labels)\n",
    "\n",
    "    def __len__(self):\n",
    "        total_samples = 0\n",
    "        for value in self.data.values():\n",
    "            total_samples += value.shape[1]\n",
    "        return total_samples\n",
    "    \n",
    "    def __getitem__(self, index):\n",
    "        if isinstance(index, tuple) and len(index) == 2:\n",
    "            k = self.index_to_labels.get(index[0], None)\n",
    "            return torch.unsqueeze(torch.from_numpy(self.data[k][:, index[1]]), 0)\n",
    "        else:\n",
    "            raise IndexError(f\"{index} not supported\")\n",
    "        \n",
    "    def get_data_dim(self):\n",
    "        return self.get_max_data_dim(self.data)\n",
    "        "
   ]
  },
  {
   "cell_type": "code",
   "execution_count": 93,
   "metadata": {},
   "outputs": [],
   "source": [
    "class TrainLoader:\n",
    "    def __init__(self, data_source, batch_size: int = 0, n_iter: int = 1, shuffle: bool = False):\n",
    "        self.data_source = data_source\n",
    "        self.n_iter = n_iter\n",
    "        self.shuffle = shuffle\n",
    "        self.returned_index = 0\n",
    "        self.adjusted_batch_size = self.adjust_batch_size(batch_size)\n",
    "        self.nsamples = self.get_nsamples()\n",
    "        self.class_indices_r = self.get_randomized_class_indices()\n",
    "        self.sample_indices_r = self.get_randomized_sample_indices()\n",
    "        \n",
    "    def __iter__(self):\n",
    "        return self\n",
    "    \n",
    "    def __next__(self):\n",
    "        if self.n_iter > 0 and self.returned_index < self.adjusted_batch_size:\n",
    "            c_indx, s_indx = divmod(self.returned_index, self.nsamples)\n",
    "            self.returned_index += 1\n",
    "            self.update_batch()\n",
    "            if self.shuffle:\n",
    "                indx = self.class_indices_r[c_indx], random.randrange(self.data_source.sample_sizes[c_indx])\n",
    "                return self.data_source[indx]\n",
    "            else:\n",
    "                indx = self.class_indices_r[c_indx], (self.sample_indices_r[c_indx] + s_indx)\n",
    "                return self.data_source[indx]\n",
    "        else:\n",
    "            raise StopIteration\n",
    "\n",
    "    def update_batch(self):\n",
    "        if self.returned_index == self.adjusted_batch_size:\n",
    "            self.n_iter -= 1\n",
    "            random.shuffle(self.class_indices_r)\n",
    "            self.sample_indices_r = self.get_randomized_sample_indices()\n",
    "            self.returned_index = 0\n",
    "        \n",
    "    def adjust_batch_size(self, batch_size: int):\n",
    "        adjusted_batch_size = min(max(batch_size//self.data_source.nclasses, 1) * self.data_source.nclasses, self.data_source.max_batch_size)\n",
    "        if adjusted_batch_size != batch_size:\n",
    "            warnings.warn(f\"batch size adjusted to {adjusted_batch_size}\")\n",
    "        return adjusted_batch_size\n",
    "\n",
    "    def get_nsamples(self):\n",
    "        return (self.adjusted_batch_size//self.data_source.nclasses)\n",
    "    \n",
    "    def get_randomized_class_indices(self):\n",
    "        class_indices_r = [*range(self.data_source.nclasses)]\n",
    "        random.shuffle(class_indices_r)\n",
    "        return class_indices_r\n",
    "    \n",
    "    def get_randomized_sample_indices(self):\n",
    "        sample_indices_r = []\n",
    "        for indx in self.class_indices_r:\n",
    "            random_start_limit = self.data_source.sample_sizes[indx] - self.nsamples\n",
    "            sample_indices_r.append(random.randint(0, random_start_limit))\n",
    "        return sample_indices_r\n",
    "    \n",
    "    def get_batch_size(self):\n",
    "        return self.adjusted_batch_size"
   ]
  },
  {
   "cell_type": "code",
   "execution_count": 94,
   "metadata": {},
   "outputs": [],
   "source": [
    "class TestLoader:\n",
    "    def __init__(self, data_source):\n",
    "        self.data_source = data_source\n",
    "        self.returned_class_indx = 0\n",
    "        self.returned_sample_indx = 0\n",
    "\n",
    "    def __iter__(self):\n",
    "        return self\n",
    "    \n",
    "    def __next__(self):\n",
    "        if self.returned_class_indx < self.data_source.nclasses and self.returned_sample_indx < self.data_source.sample_sizes[self.returned_class_indx]:\n",
    "            indx = self.returned_class_indx, self.returned_sample_indx\n",
    "            self.returned_sample_indx += 1\n",
    "            self.update_class()\n",
    "            return self.data_source[indx]\n",
    "        else:\n",
    "            raise StopIteration\n",
    "    \n",
    "    def update_class(self):\n",
    "        if self.returned_sample_indx == self.data_source.sample_sizes[self.returned_class_indx]:\n",
    "            self.returned_class_indx += 1\n",
    "            self.returned_sample_indx = 0\n",
    "\n",
    "    def get_index_to_class_dict(self):\n",
    "        return self.data_source.index_to_labels\n",
    "    \n",
    "    def get_class_to_index_dict(self):\n",
    "        return self.data_source.labels_to_index"
   ]
  },
  {
   "cell_type": "code",
   "execution_count": 10,
   "metadata": {},
   "outputs": [],
   "source": [
    "train_inputs = TrainData('May04-2357')\n",
    "train_loader = TrainLoader(train_inputs, batch_size=128, n_iter=2)\n",
    "test_inputs = TestData('May04-2357')\n",
    "test_loader = TestLoader(test_inputs)"
   ]
  },
  {
   "cell_type": "code",
   "execution_count": 3,
   "metadata": {},
   "outputs": [
    {
     "name": "stderr",
     "output_type": "stream",
     "text": [
      "DEBUG:This message should appear on the console\n",
      "INFO:So should this\n",
      "WARNING:And this, too\n"
     ]
    }
   ],
   "source": [
    "import logging\n",
    "logging.basicConfig(format='%(levelname)s:%(message)s', level=logging.DEBUG)\n",
    "logging.debug('This message should appear on the console')\n",
    "logging.info('So should this')\n",
    "logging.warning('And this, too')"
   ]
  },
  {
   "cell_type": "code",
   "execution_count": 399,
   "metadata": {},
   "outputs": [
    {
     "ename": "NameError",
     "evalue": "name 'TrainData' is not defined",
     "output_type": "error",
     "traceback": [
      "\u001b[0;31m---------------------------------------------------------------------------\u001b[0m",
      "\u001b[0;31mNameError\u001b[0m                                 Traceback (most recent call last)",
      "Cell \u001b[0;32mIn[399], line 5\u001b[0m\n\u001b[1;32m      2\u001b[0m \u001b[39mfrom\u001b[39;00m \u001b[39mtorch\u001b[39;00m\u001b[39m.\u001b[39;00m\u001b[39mnn\u001b[39;00m\u001b[39m.\u001b[39;00m\u001b[39mfunctional\u001b[39;00m \u001b[39mimport\u001b[39;00m normalize\n\u001b[1;32m      3\u001b[0m \u001b[39mfrom\u001b[39;00m \u001b[39mtorch\u001b[39;00m\u001b[39m.\u001b[39;00m\u001b[39mlinalg\u001b[39;00m \u001b[39mimport\u001b[39;00m multi_dot\n\u001b[0;32m----> 5\u001b[0m \u001b[39mdef\u001b[39;00m \u001b[39mget_init_batch\u001b[39m(train_inputs: TrainData, n_batches: \u001b[39mint\u001b[39m\u001b[39m=\u001b[39m\u001b[39m1\u001b[39m):\n\u001b[1;32m      6\u001b[0m     data_dim \u001b[39m=\u001b[39m train_inputs\u001b[39m.\u001b[39mget_data_dim()\n\u001b[1;32m      7\u001b[0m     batch_size \u001b[39m=\u001b[39m \u001b[39mint\u001b[39m(\u001b[39m0.25\u001b[39m\u001b[39m*\u001b[39m\u001b[39mlen\u001b[39m(train_inputs))\n",
      "\u001b[0;31mNameError\u001b[0m: name 'TrainData' is not defined"
     ]
    }
   ],
   "source": [
    "import torch\n",
    "from torch.nn.functional import normalize\n",
    "from torch.linalg import multi_dot\n",
    "\n",
    "def get_init_batch(train_inputs: TrainData, n_batches: int=1):\n",
    "    data_dim = train_inputs.get_data_dim()\n",
    "    batch_size = int(0.25*len(train_inputs))\n",
    "    train_loader = TrainLoader(train_inputs, batch_size=batch_size, n_iter=n_batches)\n",
    "    adjusted_batch_size = train_loader.get_batch_size()\n",
    "    init_tensor = torch.empty((n_batches, adjusted_batch_size, data_dim))\n",
    "    for i, input in enumerate(train_loader):\n",
    "        batch_number, sample_number = divmod(i, adjusted_batch_size)\n",
    "        init_tensor[batch_number, sample_number, :] = torch.flatten(input, start_dim=0)\n",
    "    return init_tensor\n",
    "\n",
    "def get_effective_dim(S: torch.Tensor):\n",
    "    assert S.dim() == 1, \"singular values must be in 1D vector\"\n",
    "    S_n = S**2/torch.sum(S**2)\n",
    "    n_comp = 0\n",
    "    for i in range(len(S_n)):\n",
    "        if torch.sum(S_n[:i]) > 0.95:\n",
    "            n_comp = i+1\n",
    "            break\n",
    "    return n_comp\n",
    "\n",
    "def randomizer_matrix(m: int, n: int):\n",
    "    assert m >= n, f\"m={m} should be greater than or equal to n={n}\"\n",
    "    _, _, V = torch.pca_lowrank(torch.rand(n, n), q=n)\n",
    "    if m > n:\n",
    "        random_matrix = normalize(torch.randn(m-n, n), p=2, dim=1)\n",
    "        Vc = torch.mm(random_matrix, V)\n",
    "        return torch.vstack((V, Vc))\n",
    "    else:\n",
    "        return V\n",
    "\n",
    "def input_svd_matrices(init_batch: torch.Tensor):\n",
    "    _, S, V = torch.pca_lowrank(init_batch)\n",
    "    effective_dim = get_effective_dim(S)\n",
    "    return V[:, :effective_dim], S[:effective_dim], effective_dim\n",
    "\n",
    "def initialize_network_connections(layer_dims: list, data_identifier: str):\n",
    "    train_inputs = TrainData(data_identifier)\n",
    "    init_batch = get_init_batch(train_inputs)\n",
    "    left_matrix, sigma, n = input_svd_matrices(init_batch)\n",
    "    sigma_r = sigma**(-1/len(layer_dims))\n",
    "    \n",
    "    for dim in layer_dims:\n",
    "        right_matrix = randomizer_matrix(layer_dims[dim], n)\n",
    "        w = multi_dot([left_matrix, torch.diag(sigma_r), right_matrix.T])\n",
    "        w_n = normalize(w, p=2.0, dim=1)\n",
    "        left_matrix = right_matrix\n",
    "    return None\n"
   ]
  },
  {
   "cell_type": "code",
   "execution_count": 96,
   "metadata": {},
   "outputs": [
    {
     "name": "stdout",
     "output_type": "stream",
     "text": [
      "torch.Size([3, 64, 102])\n"
     ]
    },
    {
     "name": "stderr",
     "output_type": "stream",
     "text": [
      "/var/folders/b9/8km7dn7s35bfc4y81hgxnfj9d52_hx/T/ipykernel_43991/2289762838.py:39: UserWarning: batch size adjusted to 64\n",
      "  warnings.warn(f\"batch size adjusted to {adjusted_batch_size}\")\n"
     ]
    }
   ],
   "source": [
    "train_inputs = TrainData('May04-2357')\n",
    "init_tensor = get_init_batch(train_inputs, n_batches=3)\n",
    "print(init_tensor.shape)"
   ]
  },
  {
   "cell_type": "code",
   "execution_count": 163,
   "metadata": {},
   "outputs": [],
   "source": [
    "from torch import nn\n",
    "\n",
    "class Hash(nn.Module):\n",
    "    def __init__(self, input_size: int, hash_length: int):\n",
    "        super().__init__()\n",
    "        self.fc = nn.Linear(input_size, hash_length, bias=False)\n",
    "        self.activation = nn.ReLU()\n",
    "\n",
    "    def forward(self, x: torch.Tensor):\n",
    "        assert x.dim() == 3\n",
    "        out = self.fc(x)\n",
    "        out = self.activation(out)\n",
    "        return self.hash_function(torch.sign(out))\n",
    "    \n",
    "    def hash_function(self, out: torch.Tensor):\n",
    "        out_f = torch.flatten(out, end_dim=1)\n",
    "        hash_values = torch.empty((out_f.shape[0], 1))\n",
    "        for indx, row in enumerate(out_f):\n",
    "            hash_values[indx, 0] = sum(v*2**i for i, v in enumerate(reversed(row)))\n",
    "        return hash_values.reshape(*out.shape[:-1], 1)\n",
    "\n",
    "\n",
    "class MultiHash(nn.Module):\n",
    "    def __init__(self, input_size: int, n_heads: int):\n",
    "        super().__init__()\n",
    "        self.n_heads = n_heads\n",
    "        self.input_size = input_size\n",
    "        self.hash_length = 2*input_size #find optimal number of partitions\n",
    "    \n",
    "    def forward(self, x: torch.Tensor):\n",
    "        hash_tensor = torch.empty((*x.shape[:-1], self.n_heads))\n",
    "        for head in range(self.n_heads):\n",
    "            hash_layer = Hash(self.input_size, self.hash_length)\n",
    "            hash_tensor[:, :, head] = torch.flatten(hash_layer(x), start_dim=1)\n",
    "        return hash_tensor\n",
    "\n",
    "    \n",
    "\n",
    "\n",
    "# implement to get input indices or make sure that at max bach size inputs are generated orederly"
   ]
  },
  {
   "cell_type": "code",
   "execution_count": 164,
   "metadata": {},
   "outputs": [
    {
     "name": "stdout",
     "output_type": "stream",
     "text": [
      "------input tensor shapes-----\n",
      "torch.Size([1, 1, 4])\n",
      "torch.Size([1, 5, 4])\n",
      "torch.Size([2, 5, 4])\n",
      "------output tensor shapes-----\n",
      "torch.Size([1, 1, 1])\n",
      "torch.Size([1, 5, 1])\n",
      "torch.Size([2, 5, 1])\n",
      "------hashpool tensor shapes-----\n",
      "torch.Size([1, 1, 3])\n",
      "torch.Size([1, 5, 3])\n",
      "torch.Size([2, 5, 3])\n"
     ]
    }
   ],
   "source": [
    "a1 = torch.tensor([[[1, 2, 3, 4]]], dtype=torch.float)\n",
    "a2 = torch.tensor([[[1, 1, 1, 1],[5, 6, 7, 8], [0, 0, 0, 0], [6, 4, 5, 2], [7, 3, 9, 1]]], dtype=torch.float)\n",
    "a3 = torch.vstack((a2, a2)).reshape(2, 5, 4)\n",
    "\n",
    "print('------input tensor shapes-----')\n",
    "print(a1.shape)\n",
    "print(a2.shape)\n",
    "print(a3.shape)\n",
    "\n",
    "hash_layer = Hash(4, 3)\n",
    "\n",
    "print('------output tensor shapes-----')\n",
    "print(hash_layer(a1).shape)\n",
    "print(hash_layer(a2).shape)\n",
    "print(hash_layer(a3).shape)\n",
    "\n",
    "hash_pool = MultiHash(4, 3)\n",
    "\n",
    "print('------hashpool tensor shapes-----')\n",
    "print(hash_pool(a1).shape)\n",
    "print(hash_pool(a2).shape)\n",
    "print(hash_pool(a3).shape)"
   ]
  },
  {
   "cell_type": "code",
   "execution_count": 71,
   "metadata": {},
   "outputs": [
    {
     "name": "stdout",
     "output_type": "stream",
     "text": [
      "tensor([[[180., 118.,  49.]]], grad_fn=<CopySlices>)\n",
      "------**------\n",
      "tensor([[[203.,  73., 212.],\n",
      "         [203., 129., 214.],\n",
      "         [  0.,   0.,   0.],\n",
      "         [203., 217., 179.],\n",
      "         [203., 155., 215.]]], grad_fn=<CopySlices>)\n",
      "------**------\n",
      "tensor([[[ 97., 192., 124.],\n",
      "         [ 97., 192., 124.],\n",
      "         [  0.,   0.,   0.],\n",
      "         [101., 130., 220.],\n",
      "         [100., 130., 216.]],\n",
      "\n",
      "        [[ 97., 192., 124.],\n",
      "         [ 97., 192., 124.],\n",
      "         [  0.,   0.,   0.],\n",
      "         [101., 130., 220.],\n",
      "         [100., 130., 216.]]], grad_fn=<CopySlices>)\n"
     ]
    }
   ],
   "source": [
    "print(hash_pool(a1))\n",
    "print(\"------**------\")\n",
    "print(hash_pool(a2))\n",
    "print(\"------**------\")\n",
    "print(hash_pool(a3))\n"
   ]
  },
  {
   "cell_type": "code",
   "execution_count": 22,
   "metadata": {},
   "outputs": [
    {
     "data": {
      "text/plain": [
       "tensor([[0.6269, 0.9706, 0.4694],\n",
       "        [0.7349, 0.6549, 0.6819]])"
      ]
     },
     "execution_count": 22,
     "metadata": {},
     "output_type": "execute_result"
    }
   ],
   "source": [
    "inp = torch.rand(1, 2, 3)\n",
    "torch.flatten(inp, end_dim=1)"
   ]
  },
  {
   "cell_type": "code",
   "execution_count": 203,
   "metadata": {},
   "outputs": [],
   "source": [
    "from torch import nn\n",
    "from torch.nn.functional import normalize\n",
    "\n",
    "class ModuleD(nn.Module):\n",
    "    def __init__(self, W: torch.Tensor, w_lateral: torch.Tensor = torch.empty((0,0)), mode: str='l'):\n",
    "        super().__init__()\n",
    "        assert W.dim() == 2, \"weight must be a 2D tensor\"\n",
    "        self.mode = mode\n",
    "        self.w = W\n",
    "        self.w_lateral = self.set_recurrent_weights(w_lateral)\n",
    "        self.activation = nn.ReLU()\n",
    "        \n",
    "    \n",
    "    def forward(self, x: torch.Tensor):\n",
    "        out_ = torch.mm(x, self.w)\n",
    "        out_ = self.approximate_recurrence(out_)\n",
    "        out_f = self.activation(out_)\n",
    "        self.update_forward_weights(x, out_f) if self.mode == 'l' else None\n",
    "        return out_f\n",
    "\n",
    "    def approximate_recurrence(self, s: torch.Tensor):\n",
    "        # check shape constraints\n",
    "        assert s.dim() == 2 and s.shape[0] == 1, \"intermediate response must be a row vector\"\n",
    "        assert self.w_lateral.dim() == 2, \"connectivity matrix must be 2D\"\n",
    "        assert self.w_lateral.shape[0] == self.w_lateral.shape[1] == s.shape[1], \"recurrent connections must be all to all\"\n",
    "        \n",
    "        # flatten response and approximate recurrence\n",
    "        m = s.shape[1]\n",
    "        s_flatten = torch.flatten(s, start_dim=0)\n",
    "        selection_diag = self.estimate_support(s_flatten)\n",
    "        A_m = torch.eye(m) + torch.mm(torch.diag(selection_diag), self.w_lateral) -   torch.diag(selection_diag)\n",
    "        return torch.mm(s, torch.inverse(A_m))\n",
    "    \n",
    "    def estimate_support(self, s_flatten: torch.Tensor):\n",
    "        # check shape constrains and initialize selection variables\n",
    "        assert s_flatten.dim() == 1, \"response must be passed as a vector\"\n",
    "        n, m = self.w.shape\n",
    "        selection_diag = torch.zeros(m)\n",
    "        selection_indx = torch.argsort(s_flatten, descending=True)\n",
    "        \n",
    "        # if dimension expansion performa binary search\n",
    "        if m > n:\n",
    "            left, mid, right = 0, int(0.5*(m-1)), m-1\n",
    "            while left < right:\n",
    "                selection_diag[selection_indx[:mid]] = 1\n",
    "                A_m = torch.eye(m) + torch.mm(torch.diag(selection_diag), self.w_lateral) - torch.diag(selection_diag)\n",
    "                r = torch.linalg.matrix_rank(A_m)\n",
    "                #print(left, \" \", mid, \" \", right)\n",
    "                if r < m:\n",
    "                    right = mid-1\n",
    "                else:\n",
    "                    left = mid+1\n",
    "                mid = int(0.5*(left+right))\n",
    "                selection_diag = torch.zeros(m)\n",
    "                if mid == left or mid == right:\n",
    "                    break\n",
    "            selection_diag[selection_indx[:mid]] = 1\n",
    "        # else select top n values\n",
    "        else:\n",
    "            selection_diag[selection_indx[:m]] = 1\n",
    "        return selection_diag\n",
    "\n",
    "    \n",
    "    def set_recurrent_weights(self, w_lateral: torch.Tensor):\n",
    "        recurrent_weights = w_lateral if w_lateral.numel() else torch.mm(self.w.T, self.w)\n",
    "        return recurrent_weights\n",
    "\n",
    "    def update_forward_weights(self, x: torch.Tensor, y: torch.Tensor):\n",
    "        pass\n",
    "\n",
    "    def get_forward_weights(self):\n",
    "        return self.w\n",
    "    \n",
    "    def turn_grads_off(self):\n",
    "        pass"
   ]
  },
  {
   "cell_type": "code",
   "execution_count": 147,
   "metadata": {},
   "outputs": [],
   "source": [
    "from torch.nn.functional import normalize\n",
    "\n",
    "def get_sparse_inputs(m: int, s: float):\n",
    "    y = torch.zeros(1, m)\n",
    "    ind = torch.randint(0, m, (int(m*s),))\n",
    "    y[0, ind] = 1\n",
    "    return y\n",
    "\n",
    "def compare_vecs(y: torch.Tensor, y_0: torch.Tensor, n: int):\n",
    "    assert y.shape == y_0.shape\n",
    "    m = y.shape[1]\n",
    "    smx = nn.Softmax(dim=1)\n",
    "    y_0_s = smx(y_0)\n",
    "    y_0_n = torch.zeros(1, m)\n",
    "    y_0_f = torch.flatten(y_0_s, start_dim=0)\n",
    "    #ind_guess = torch.argsort(y_0_f, descending=True)\n",
    "    ind_guess = y_0_f > 1/m\n",
    "    y_0_n[0, ind_guess] = 1\n",
    "    return torch.mm(y_0_n, y.T)/torch.sum(y)\n",
    "\n",
    "def init_wights(n: int, m: int, s: float):\n",
    "    w = torch.empty(1, m)\n",
    "    for _ in range(n):\n",
    "        w = torch.vstack((w, get_sparse_inputs(m, s)))\n",
    "    w = w[1:,:]\n",
    "    w_n = normalize(w, p=2, dim=0)\n",
    "    return w_n"
   ]
  },
  {
   "cell_type": "code",
   "execution_count": 211,
   "metadata": {},
   "outputs": [
    {
     "data": {
      "text/plain": [
       "<matplotlib.legend.Legend at 0x7f89abb9d7c0>"
      ]
     },
     "execution_count": 211,
     "metadata": {},
     "output_type": "execute_result"
    },
    {
     "data": {
      "image/png": "[encoded data removed]",
      "text/plain": [
       "<Figure size 640x480 with 1 Axes>"
      ]
     },
     "metadata": {},
     "output_type": "display_data"
    }
   ],
   "source": [
    "# sample run\n",
    "from matplotlib import pyplot as plt\n",
    "\n",
    "n, m, s = 500, 1000, 0.05\n",
    "w = torch.randn(n, m)\n",
    "w_n = normalize(w, p=2, dim=0)\n",
    "y = get_sparse_inputs(m, s)\n",
    "x = torch.mm(y, w_n.T)\n",
    "l = ModuleD(w_n)\n",
    "y_hat = l(x)\n",
    "\n",
    "\n",
    "plt.plot(y[0,:].numpy(), label='original')\n",
    "plt.plot(y_hat[0,:].numpy(), 'o', color='r', label='recovered')\n",
    "plt.legend()"
   ]
  },
  {
   "cell_type": "code",
   "execution_count": 262,
   "metadata": {},
   "outputs": [
    {
     "name": "stdout",
     "output_type": "stream",
     "text": [
      "100 200 500 1000 "
     ]
    }
   ],
   "source": [
    "import time\n",
    "E = torch.zeros(4, 4, 5)\n",
    "t_elapsed = torch.zeros(4, 4)\n",
    "\n",
    "for i, n in enumerate([100, 200, 500, 1000]):\n",
    "    print(n, end=\" \")\n",
    "    for j, m in enumerate([100, 200, 500, 1000]):\n",
    "        start = time.time()\n",
    "        for k, sp in enumerate([1, 2, 3, 5, 10]):\n",
    "            s = 0.01*sp\n",
    "            for _ in range(100):\n",
    "                W = torch.randn(n, m)\n",
    "                W_n = normalize(W, p=2, dim=0)\n",
    "                y = torch.zeros(1, m)\n",
    "                ind = torch.randint(0, m, (int(m*s),))\n",
    "                y[0, ind] = 1\n",
    "                x = torch.mm(y, W_n.T)\n",
    "                layer = ModuleD(W_n)\n",
    "                y_hat = layer(x)\n",
    "                y_0 = torch.mm(x, W_n)\n",
    "                E[i, j, k] += torch.flatten(torch.mm(y, y_hat.T), start_dim=0)[0]/(torch.norm(y, p='fro')*torch.norm(y_hat, p='fro'))\n",
    "        t_elapsed[i, j] = time.time()-start\n"
   ]
  },
  {
   "cell_type": "code",
   "execution_count": 263,
   "metadata": {},
   "outputs": [
    {
     "name": "stderr",
     "output_type": "stream",
     "text": [
      "/Library/Frameworks/Python.framework/Versions/3.8/lib/python3.8/site-packages/matplotlib/axes/_axes.py:1185: RuntimeWarning: All-NaN axis encountered\n",
      "  miny = np.nanmin(masked_verts[..., 1])\n",
      "/Library/Frameworks/Python.framework/Versions/3.8/lib/python3.8/site-packages/matplotlib/axes/_axes.py:1186: RuntimeWarning: All-NaN axis encountered\n",
      "  maxy = np.nanmax(masked_verts[..., 1])\n"
     ]
    },
    {
     "data": {
      "text/plain": [
       "<matplotlib.legend.Legend at 0x7f893d7b6280>"
      ]
     },
     "execution_count": 263,
     "metadata": {},
     "output_type": "execute_result"
    },
    {
     "data": {
      "image/png": "[encoded data removed]",
      "text/plain": [
       "<Figure size 640x480 with 1 Axes>"
      ]
     },
     "metadata": {},
     "output_type": "display_data"
    }
   ],
   "source": [
    "ErrorDict = {}\n",
    "for i, n in enumerate([100, 200, 500, 1000]):\n",
    "    for j, m in enumerate([100, 200, 500, 1000]):\n",
    "        ratio = m/n\n",
    "        ErrorDict[ratio] = torch.vstack((ErrorDict.get(ratio, torch.empty(1, 5)), E[i, j, :]))\n",
    "\n",
    "for k, v in ErrorDict.items():\n",
    "    y_err = 0.01*torch.std(v[1:,:], dim=0)\n",
    "    plt.errorbar([1, 2, 3, 5, 10], 0.01*torch.mean(v[1:,:], dim=0), label=str(k), yerr = y_err, marker='o')\n",
    "\n",
    "plt.xticks([1, 2, 3, 5, 10], [0.01, 0.02, 0.03, 0.05, 0.1])\n",
    "plt.ylim(0, 1.1)\n",
    "plt.xlabel(\"Sparsity\")\n",
    "plt.ylabel(\"Similarity\")\n",
    "plt.legend()"
   ]
  },
  {
   "cell_type": "code",
   "execution_count": 272,
   "metadata": {},
   "outputs": [
    {
     "data": {
      "text/plain": [
       "<matplotlib.legend.Legend at 0x7f897c3a7c10>"
      ]
     },
     "execution_count": 272,
     "metadata": {},
     "output_type": "execute_result"
    },
    {
     "data": {
      "image/png": "[encoded data removed]",
      "text/plain": [
       "<Figure size 640x480 with 1 Axes>"
      ]
     },
     "metadata": {},
     "output_type": "display_data"
    }
   ],
   "source": [
    "x = torch.zeros(4, 2)\n",
    "c = torch.zeros(4, 2)\n",
    "for j, m in enumerate([100, 200, 500, 1000]):\n",
    "    for i, n in enumerate([100, 200, 500, 1000]):\n",
    "        if m > n:\n",
    "            x[j,1] += t_elapsed[i,j]\n",
    "            c[j,1] += 100\n",
    "        else:\n",
    "            x[j,0] += t_elapsed[i,j]\n",
    "            c[j,0] += 100\n",
    "\n",
    "x = x/c\n",
    "\n",
    "plt.plot([1, 2, 5, 10], x[:, 0], marker='o', label='n >= m')\n",
    "plt.plot([2, 5, 10], x[1:, 1], marker='o', label='n < m')\n",
    "plt.xticks([1, 2, 5, 10], [100, 200, 500, 1000])\n",
    "plt.xlabel('Rep dim(m)')\n",
    "plt.ylabel('Time(s)')\n",
    "plt.ylim(-0.2, 9)\n",
    "plt.legend()"
   ]
  },
  {
   "cell_type": "code",
   "execution_count": 288,
   "metadata": {},
   "outputs": [],
   "source": [
    "# vanilla RNN\n",
    "def vRNN(x: torch.Tensor, w: torch.Tensor):\n",
    "    n, m = w.shape\n",
    "    w_l = torch.mm(w.T, w)\n",
    "    inpt = torch.mm(x, w)\n",
    "    y = torch.zeros(1, m)\n",
    "    a = torch.zeros(1, m)\n",
    "    threshold = nn.ReLU()\n",
    "\n",
    "    for _ in range(500):\n",
    "        rec = torch.mm(a, w_l - torch.eye(m))\n",
    "        dy = 0.01*(inpt - y - rec)\n",
    "        y += dy\n",
    "        a = threshold(y)\n",
    "        if torch.norm(dy) < 0.0001:\n",
    "            break\n",
    "    return a"
   ]
  },
  {
   "cell_type": "code",
   "execution_count": 289,
   "metadata": {},
   "outputs": [
    {
     "data": {
      "text/plain": [
       "<matplotlib.legend.Legend at 0x7f893ef00e50>"
      ]
     },
     "execution_count": 289,
     "metadata": {},
     "output_type": "execute_result"
    },
    {
     "data": {
      "image/png": "[encoded data removed]",
      "text/plain": [
       "<Figure size 640x480 with 1 Axes>"
      ]
     },
     "metadata": {},
     "output_type": "display_data"
    }
   ],
   "source": [
    "n, m, s = 500, 100, 0.05\n",
    "w = torch.randn(n, m)\n",
    "w_n = normalize(w, p=2, dim=0)\n",
    "y = get_sparse_inputs(m, s)\n",
    "x = torch.mm(y, w_n.T)\n",
    "\n",
    "y_hat = vRNN(x, w_n)\n",
    "\n",
    "\n",
    "plt.plot(y[0,:].numpy(), label='original')\n",
    "plt.plot(y_hat[0,:].numpy(), 'o', color='r', label='recovered')\n",
    "plt.legend()"
   ]
  },
  {
   "cell_type": "code",
   "execution_count": 290,
   "metadata": {},
   "outputs": [
    {
     "name": "stdout",
     "output_type": "stream",
     "text": [
      "100 200 500 1000 "
     ]
    }
   ],
   "source": [
    "import time\n",
    "E = torch.zeros(4, 4, 5)\n",
    "t_elapsed = torch.zeros(4, 4)\n",
    "\n",
    "for i, n in enumerate([100, 200, 500, 1000]):\n",
    "    print(n, end=\" \")\n",
    "    for j, m in enumerate([100, 200, 500, 1000]):\n",
    "        start = time.time()\n",
    "        for k, sp in enumerate([1, 2, 3, 5, 10]):\n",
    "            s = 0.01*sp\n",
    "            for _ in range(100):\n",
    "                W = torch.randn(n, m)\n",
    "                W_n = normalize(W, p=2, dim=0)\n",
    "                y = torch.zeros(1, m)\n",
    "                ind = torch.randint(0, m, (int(m*s),))\n",
    "                y[0, ind] = 1\n",
    "                x = torch.mm(y, W_n.T)\n",
    "                y_hat = vRNN(x, W_n)\n",
    "                y_0 = torch.mm(x, W_n)\n",
    "                E[i, j, k] += torch.flatten(torch.mm(y, y_hat.T), start_dim=0)[0]/(torch.norm(y, p='fro')*torch.norm(y_hat, p='fro'))\n",
    "        t_elapsed[i, j] = time.time()-start"
   ]
  },
  {
   "cell_type": "code",
   "execution_count": 291,
   "metadata": {},
   "outputs": [
    {
     "data": {
      "text/plain": [
       "<matplotlib.legend.Legend at 0x7f86586d7be0>"
      ]
     },
     "execution_count": 291,
     "metadata": {},
     "output_type": "execute_result"
    },
    {
     "data": {
      "image/png": "[encoded data removed]",
      "text/plain": [
       "<Figure size 640x480 with 1 Axes>"
      ]
     },
     "metadata": {},
     "output_type": "display_data"
    }
   ],
   "source": [
    "ErrorDict = {}\n",
    "for i, n in enumerate([100, 200, 500, 1000]):\n",
    "    for j, m in enumerate([100, 200, 500, 1000]):\n",
    "        ratio = m/n\n",
    "        ErrorDict[ratio] = torch.vstack((ErrorDict.get(ratio, torch.empty(1, 5)), E[i, j, :]))\n",
    "\n",
    "for k, v in ErrorDict.items():\n",
    "    y_err = 0.01*torch.std(v[1:,:], dim=0)\n",
    "    plt.errorbar([1, 2, 3, 5, 10], 0.01*torch.mean(v[1:,:], dim=0), label=str(k), yerr = y_err, marker='o')\n",
    "\n",
    "plt.xticks([1, 2, 3, 5, 10], [0.01, 0.02, 0.03, 0.05, 0.1])\n",
    "plt.ylim(0, 1.1)\n",
    "plt.xlabel(\"Sparsity\")\n",
    "plt.ylabel(\"Similarity\")\n",
    "plt.legend()"
   ]
  },
  {
   "cell_type": "code",
   "execution_count": 292,
   "metadata": {},
   "outputs": [
    {
     "data": {
      "text/plain": [
       "<matplotlib.legend.Legend at 0x7f89bead71f0>"
      ]
     },
     "execution_count": 292,
     "metadata": {},
     "output_type": "execute_result"
    },
    {
     "data": {
      "image/png": "[encoded data removed]",
      "text/plain": [
       "<Figure size 640x480 with 1 Axes>"
      ]
     },
     "metadata": {},
     "output_type": "display_data"
    }
   ],
   "source": [
    "x = torch.zeros(4, 2)\n",
    "c = torch.zeros(4, 2)\n",
    "for j, m in enumerate([100, 200, 500, 1000]):\n",
    "    for i, n in enumerate([100, 200, 500, 1000]):\n",
    "        if m > n:\n",
    "            x[j,1] += t_elapsed[i,j]\n",
    "            c[j,1] += 100\n",
    "        else:\n",
    "            x[j,0] += t_elapsed[i,j]\n",
    "            c[j,0] += 100\n",
    "\n",
    "x = x/c\n",
    "\n",
    "plt.plot([1, 2, 5, 10], x[:, 0], marker='o', label='n >= m')\n",
    "plt.plot([2, 5, 10], x[1:, 1], marker='o', label='n < m')\n",
    "plt.xticks([1, 2, 5, 10], [100, 200, 500, 1000])\n",
    "plt.xlabel('Rep dim(m)')\n",
    "plt.ylabel('Time(s)')\n",
    "plt.ylim(-0.2, 9)\n",
    "plt.legend()"
   ]
  },
  {
   "cell_type": "code",
   "execution_count": null,
   "metadata": {},
   "outputs": [],
   "source": [
    "import torch\n",
    "from torch import nn\n",
    "from torch.linalg import matrix_rank, multi_dot\n",
    "\n",
    "class Feedforward(nn.Module):\n",
    "    def __init__(self, weights: torch.Tensor):\n",
    "        super().__init__()\n",
    "        assert weights.dim() == 2, \"connectivity matrix must be 2D\"\n",
    "        self.weights = weights\n",
    "        self.expansion = weights.shape[0] < weights.shape[1]\n",
    "\n",
    "    def forward(self, input: torch.Tensor):\n",
    "        return torch.mm(input, self.weights)\n",
    "    \n",
    "    def update_weights(self, x: torch.Tensor, y: torch.Tensor, lr: float = 0.001):\n",
    "        norm_y = torch.norm(y, p='fro').item()\n",
    "        dw = lr*(torch.mm(x.T, y) - (torch.linalg.multi_dot((self.weights, y.T, y))/norm_y))\n",
    "        self.weights += dw\n",
    "    \n",
    "\n",
    "\n",
    "class Recurrent(nn.Module):\n",
    "    def __init__(self, weights: torch.Tensor, expansion: bool=False):\n",
    "        super().__init__()\n",
    "        assert weights.dim() == 2 and self.weights.shape[0] == self.weights.shape[1], \"recurrent connections must be all to all and 2D\"\n",
    "        self.weights = weights\n",
    "        self.expansion = expansion\n",
    "\n",
    "    def forward(self, input: torch.Tensor):\n",
    "        approx_recurrence = self.approximate_recurrence(input)\n",
    "        return torch.mm(input, approx_recurrence)\n",
    "    \n",
    "    def approximate_recurrence(self, input: torch.Tensor):\n",
    "        # check shape constrains and initialize selection variables\n",
    "        m = input.shape[1]\n",
    "        selection_diag = torch.zeros(m)\n",
    "        selection_indx = torch.flatten(torch.argsort(input, descending=True), start_dim=0)\n",
    "        \n",
    "        # if dimension expansion perform a binary search\n",
    "        if self.expansion:\n",
    "            left, right = 0, m-1\n",
    "            while left < right:\n",
    "                mid = int(0.5*(left+right))\n",
    "                selection_diag[selection_indx[:mid]] = 1 \n",
    "                if mid == left or mid == right:\n",
    "                    break    \n",
    "                \n",
    "                sys_mat = self.system_matrix(selection_diag)\n",
    "                if matrix_rank(sys_mat) < m:\n",
    "                    right = mid-1\n",
    "                else:\n",
    "                    left = mid+1  \n",
    "                \n",
    "                selection_diag[torch.nonzero(selection_diag)] = 0\n",
    "            \n",
    "        # else select top m values\n",
    "        else:\n",
    "            selection_diag[selection_indx[:m]] = 1\n",
    "        \n",
    "        # return selection diagonal\n",
    "        return torch.inverse(self.system_matrix(selection_diag))\n",
    "    \n",
    "    def system_matrix(self, selection_diag: torch.Tensor):\n",
    "        return torch.eye(len(selection_diag)) + torch.mm(torch.diag(selection_diag), self.weights) - torch.diag(selection_diag)\n",
    "    \n",
    "\n",
    "class DiscriminationModule(nn.Module):\n",
    "    def __init__(self, feedforward_weights: torch.Tensor, recurrent_weights: torch.Tensor=torch.empty((0,0)), lr: float=0.001, mode: str='l'):\n",
    "        super().__init__()\n",
    "        self.feedforward = Feedforward(feedforward_weights)\n",
    "        self.recurrent = Recurrent(self.set_recurrent_weights(recurrent_weights), expansion=self.feedforward.expansion)\n",
    "        self.activation = nn.ReLU()\n",
    "        self.mode = mode\n",
    "        self.lr = lr\n",
    "\n",
    "    def forward(self, input: torch.Tensor):\n",
    "        assert input.dim() == 2 and input.shape[0] == 1, \"input must be a row vector\"\n",
    "        out_ = self.feedforward(input)\n",
    "        out_ = self.recurrent(out_)\n",
    "        out_f = self.activation(out_)\n",
    "\n",
    "        if self.mode == 'l':\n",
    "            self.feedforward.update_weights(input, out_f) \n",
    "        elif self.mode == 'r': \n",
    "            return out_f\n",
    "        else:\n",
    "            raise ValueError(\"mode must be 'l' or 'r'\")\n",
    "\n",
    "    def set_recurrent_weights(self, recurrent_weights: torch.Tensor):\n",
    "        recurrent_weights = recurrent_weights if recurrent_weights.numel() else torch.mm(self.feedforward.weights.T, self.feedforward.weights)\n",
    "        return recurrent_weights\n",
    "    \n",
    "    "
   ]
  },
  {
   "cell_type": "code",
   "execution_count": 303,
   "metadata": {},
   "outputs": [],
   "source": [
    "if m > n:\n",
    "            left, mid, right = 0, int(0.5*(m-1)), m-1\n",
    "            while left < right:\n",
    "                selection_diag[selection_indx[:mid]] = 1\n",
    "                A_m = torch.eye(m) + torch.mm(torch.diag(selection_diag), self.w_lateral) - torch.diag(selection_diag)\n",
    "                r = torch.linalg.matrix_rank(A_m)\n",
    "                #print(left, \" \", mid, \" \", right)\n",
    "                if r < m:\n",
    "                    right = mid-1\n",
    "                else:\n",
    "                    left = mid+1\n",
    "                mid = int(0.5*(left+right))\n",
    "                selection_diag = torch.zeros(m)\n",
    "                if mid == left or mid == right:\n",
    "                    break\n",
    "            selection_diag[selection_indx[:mid]] = 1\n",
    "        # else select top n values\n",
    "        else:\n",
    "            selection_diag[selection_indx[:m]] = 1"
   ]
  },
  {
   "cell_type": "code",
   "execution_count": 323,
   "metadata": {},
   "outputs": [
    {
     "name": "stdout",
     "output_type": "stream",
     "text": [
      "tensor([0, 0, 0, 0, 0])\n"
     ]
    }
   ],
   "source": [
    "x = torch.tensor([1, 0, 0, 1, 0])\n",
    "x[torch.nonzero(x)] = 0\n",
    "print(x)\n"
   ]
  }
 ],
 "metadata": {
  "kernelspec": {
   "display_name": "Python 3",
   "language": "python",
   "name": "python3"
  },
  "language_info": {
   "codemirror_mode": {
    "name": "ipython",
    "version": 3
   },
   "file_extension": ".py",
   "mimetype": "text/x-python",
   "name": "python",
   "nbconvert_exporter": "python",
   "pygments_lexer": "ipython3",
   "version": "3.8.2"
  },
  "orig_nbformat": 4
 },
 "nbformat": 4,
 "nbformat_minor": 2
}
