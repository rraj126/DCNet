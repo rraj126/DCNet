{
 "cells": [
  {
   "cell_type": "code",
   "execution_count": 1,
   "metadata": {},
   "outputs": [
    {
     "data": {
      "text/plain": [
       "'/Users/rraj/PythonFunctions/DCNet'"
      ]
     },
     "execution_count": 1,
     "metadata": {},
     "output_type": "execute_result"
    }
   ],
   "source": [
    "import os\n",
    "from matplotlib import pyplot as plt\n",
    "import numpy as np\n",
    "os.chdir('/Users/rraj/PythonFunctions/DCNet/')\n",
    "os.getcwd()"
   ]
  },
  {
   "cell_type": "code",
   "execution_count": 2,
   "metadata": {},
   "outputs": [],
   "source": [
    "import torch\n",
    "from torchvision.datasets import MNIST\n",
    "from torchvision import transforms\n",
    "from tqdm import tqdm\n",
    "\n",
    "mnist_data = MNIST(\n",
    "    root = 'data',\n",
    "    train = True,                         \n",
    "    transform = transforms.ToTensor(), \n",
    "    download = True,            \n",
    ")\n"
   ]
  },
  {
   "cell_type": "code",
   "execution_count": 3,
   "metadata": {},
   "outputs": [],
   "source": [
    "from initialization import DatasetInitializer, IdentityInitializer\n",
    "from layers import DiscriminationModule, ClassificationModule\n",
    "from loading import SequentialLoader\n",
    "from metrics import Conncetedness, Consistency\n",
    "\n",
    "metric1 = Conncetedness()\n",
    "metric2 = Consistency(500)\n",
    "loader = SequentialLoader(mnist_data, num_classes=10)\n"
   ]
  },
  {
   "cell_type": "code",
   "execution_count": 3,
   "metadata": {},
   "outputs": [
    {
     "name": "stderr",
     "output_type": "stream",
     "text": [
      "100%|██████████| 25/25 [11:54<00:00, 28.59s/it]\n"
     ]
    }
   ],
   "source": [
    "train_size = 5000\n",
    "samples_per_epoch = 200\n",
    "beta = 1 - (1/samples_per_epoch)\n",
    "\n",
    "module_d = DiscriminationModule(500, DatasetInitializer(dataset=mnist_data, num_classes=10), beta=beta)\n",
    "module_c = ClassificationModule(500, IdentityInitializer())\n",
    "\n",
    "for epoch in tqdm(range(train_size//samples_per_epoch)):\n",
    "    for x in loader(samples_per_epoch):\n",
    "        y_ = module_d(x)\n",
    "        module_c(y_)\n",
    "    module_d.organize()\n",
    "    module_c.organize()"
   ]
  }
 ],
 "metadata": {
  "kernelspec": {
   "display_name": "Python 3",
   "language": "python",
   "name": "python3"
  },
  "language_info": {
   "codemirror_mode": {
    "name": "ipython",
    "version": 3
   },
   "file_extension": ".py",
   "mimetype": "text/x-python",
   "name": "python",
   "nbconvert_exporter": "python",
   "pygments_lexer": "ipython3",
   "version": "3.8.2rc2"
  },
  "orig_nbformat": 4
 },
 "nbformat": 4,
 "nbformat_minor": 2
}
